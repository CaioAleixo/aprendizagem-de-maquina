{
 "cells": [
  {
   "cell_type": "code",
   "execution_count": null,
   "metadata": {},
   "outputs": [],
   "source": [
    "import random\n",
    "import pandas as pd\n",
    "\n",
    "# Lista de frutas com repetições\n",
    "frutas = [\"maçã\", \"banana\", \"laranja\", \"uva\", \"maçã\", \"melão\", \"mamão\", \"banana\"]\n",
    "\n",
    "# Criar um conjunto para remover as frutas repetidas\n",
    "conjunto_frutas = set(frutas)\n",
    "\n",
    "# Criar um dicionário para armazenar a quantidade de cada fruta\n",
    "quantidade_frutas = {}\n",
    "\n",
    "# Abrir o arquivo para escrita\n",
    "with open(\"minhas_frutas.txt\", \"w\") as arquivo:\n",
    "    for fruta in conjunto_frutas:\n",
    "        quantidade = random.randint(0, 100)\n",
    "        arquivo.write(f\"{fruta},{quantidade}\\n\")\n",
    "\n",
    "# Criar uma lista para armazenar os dados do arquivo\n",
    "dados_frutas = []\n",
    "\n",
    "# Abrir o arquivo para leitura\n",
    "with open(\"minhas_frutas.txt\", \"r\") as arquivo:\n",
    "    for linha in arquivo:\n",
    "        fruta, quantidade = linha.strip().split(\",\")\n",
    "        dados_frutas.append([fruta, int(quantidade)])\n",
    "\n",
    "\n",
    "# Criar o DataFrame usando a biblioteca pandas\n",
    "df = pd.DataFrame(dados_frutas, columns=[\"Fruta\", \"Quantidade\"])\n",
    "\n",
    "# Agrupar as frutas e somar suas quantidades\n",
    "df_agrupado = df.groupby(\"Fruta\")[\"Quantidade\"].sum().reset_index()\n",
    "\n",
    "# Exibir o conteúdo do DataFrame no console\n",
    "df_agrupado"
   ]
  }
 ],
 "metadata": {
  "language_info": {
   "name": "python"
  }
 },
 "nbformat": 4,
 "nbformat_minor": 2
}
