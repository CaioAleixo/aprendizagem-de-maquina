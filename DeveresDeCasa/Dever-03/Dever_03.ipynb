{
 "cells": [
  {
   "cell_type": "code",
   "execution_count": null,
   "metadata": {},
   "outputs": [
    {
     "ename": "",
     "evalue": "",
     "output_type": "error",
     "traceback": [
      "\u001b[1;31mRunning cells with 'Python 3.11.9' requires the ipykernel package.\n",
      "\u001b[1;31mRun the following command to install 'ipykernel' into the Python environment. \n",
      "\u001b[1;31mCommand: '\"c:/Users/Caio Víctor/AppData/Local/Microsoft/WindowsApps/python3.11.exe\" -m pip install ipykernel -U --user --force-reinstall'"
     ]
    }
   ],
   "source": [
    "import csv\n",
    "\n",
    "# 1. Criar o arquivo dados.csv\n",
    "data = [\n",
    "    [\"Nome\", \"Idade\"],\n",
    "    [\"Ana\", \"25\"],\n",
    "    [\"Bruno\", \"30\"],\n",
    "    [\"Carla\", \"22\"],\n",
    "    [\"Daniel\", \"28\"],\n",
    "    [\"Eduardo\", \"35\"]\n",
    "]\n",
    "\n",
    "with open('dados.csv', 'w', newline='') as csvfile:\n",
    "    writer = csv.writer(csvfile)\n",
    "    writer.writerows(data)\n",
    "\n",
    "\n",
    "# 2. Ler o arquivo dados.csv e armazenar os dados em uma lista\n",
    "nomes = []\n",
    "idades = []\n",
    "\n",
    "with open('dados.csv', 'r') as file:\n",
    "    reader = csv.reader(file)\n",
    "    next(reader)  # Pula o cabeçalho\n",
    "    for row in reader:\n",
    "        nomes.append(row[0])\n",
    "        idades.append(int(row[1]))\n",
    "\n",
    "# Pede ao usuário para digitar um nome\n",
    "nome_digitado = input(\"Digite um nome: \")\n",
    "\n",
    "# Verifica se o nome está na lista\n",
    "if nome_digitado in nomes:\n",
    "    indice = nomes.index(nome_digitado)\n",
    "    idade = idades[indice]\n",
    "    maior_idade = max(idades)\n",
    "    if idade == maior_idade:\n",
    "        print(f\"{nome_digitado} tem {idade} anos, é a pessoa mais velha da lista.\")\n",
    "    else:\n",
    "        print(f\"{nome_digitado} tem {idade} anos, não é a pessoa mais velha da lista.\")\n",
    "else:\n",
    "    print(\"Nome não encontrado.\")"
   ]
  }
 ],
 "metadata": {
  "kernelspec": {
   "display_name": "Python 3",
   "language": "python",
   "name": "python3"
  },
  "language_info": {
   "name": "python",
   "version": "3.11.9"
  }
 },
 "nbformat": 4,
 "nbformat_minor": 2
}
