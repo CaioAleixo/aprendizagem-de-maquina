{
 "cells": [
  {
   "cell_type": "code",
   "execution_count": null,
   "id": "ecdbbdd3",
   "metadata": {},
   "outputs": [
    {
     "ename": "",
     "evalue": "",
     "output_type": "error",
     "traceback": [
      "\u001b[1;31mRunning cells with 'Python 3.11.9' requires the ipykernel package.\n",
      "\u001b[1;31m<a href='command:jupyter.createPythonEnvAndSelectController'>Create a Python Environment</a> with the required packages.\n",
      "\u001b[1;31mOr install 'ipykernel' using the command: '\"c:/Users/Caio Víctor/AppData/Local/Microsoft/WindowsApps/python3.11.exe\" -m pip install ipykernel -U --user --force-reinstall'"
     ]
    }
   ],
   "source": [
    "from sklearn.datasets import load_iris\n",
    "from sklearn.ensemble import RandomForestClassifier\n",
    "from sklearn.neighbors import KNeighborsClassifier\n",
    "import numpy as np\n",
    "\n",
    "iris = load_iris()\n",
    "X = iris.data # Características\n",
    "y = iris.target # Espécies (rótulos)\n",
    "nomes_especies = iris.target_names # Nomes das espécies\n",
    "\n",
    "# Modelo RandomForestClassifier\n",
    "modelo_random_forest = RandomForestClassifier()\n",
    "modelo_random_forest.fit(X, y)\n",
    "\n",
    "# Modelo KNeighborsClassifier\n",
    "modelo_knn = KNeighborsClassifier(n_neighbors=3)\n",
    "modelo_knn.fit(X, y)\n",
    "\n",
    "\n",
    "# Função para prever a espécie com base nas entradas do usuário\n",
    "def prever_especie(modelo, entrada):\n",
    "  previsao = modelo.predict([entrada])\n",
    "  return nomes_especies[previsao[0]]\n",
    "\n",
    "\n",
    "# Exemplo de uso com RandomForestClassifier\n",
    "print(\"Previsão com RandomForestClassifier:\")\n",
    "entrada_usuario = []\n",
    "for i in range(4):\n",
    "  entrada_usuario.append(float(input(f\"Digite o valor da característica {i+1}: \")))\n",
    "\n",
    "especie_prevista = prever_especie(modelo_random_forest, entrada_usuario)\n",
    "print(\"Espécie prevista:\", especie_prevista)\n",
    "\n",
    "\n",
    "# Exemplo de uso com KNeighborsClassifier\n",
    "print(\"\\nPrevisão com KNeighborsClassifier:\")\n",
    "entrada_usuario = []\n",
    "for i in range(4):\n",
    "  entrada_usuario.append(float(input(f\"Digite o valor da característica {i+1}: \")))\n",
    "\n",
    "especie_prevista = prever_especie(modelo_knn, entrada_usuario)\n",
    "print(\"Espécie prevista:\", especie_prevista)\n"
   ]
  }
 ],
 "metadata": {
  "kernelspec": {
   "display_name": "Python 3",
   "language": "python",
   "name": "python3"
  },
  "language_info": {
   "name": "python",
   "version": "3.11.9"
  }
 },
 "nbformat": 4,
 "nbformat_minor": 5
}
