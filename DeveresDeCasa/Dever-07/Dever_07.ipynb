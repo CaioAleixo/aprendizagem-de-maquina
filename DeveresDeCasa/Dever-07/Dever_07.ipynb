{
 "cells": [
  {
   "cell_type": "code",
   "execution_count": null,
   "id": "7bc08f23",
   "metadata": {},
   "outputs": [
    {
     "ename": "",
     "evalue": "",
     "output_type": "error",
     "traceback": [
      "\u001b[1;31mRunning cells with 'Python 3.11.9' requires the ipykernel package.\n",
      "\u001b[1;31m<a href='command:jupyter.createPythonEnvAndSelectController'>Create a Python Environment</a> with the required packages.\n",
      "\u001b[1;31mOr install 'ipykernel' using the command: '\"c:/Users/Caio Víctor/AppData/Local/Microsoft/WindowsApps/python3.11.exe\" -m pip install ipykernel -U --user --force-reinstall'"
     ]
    }
   ],
   "source": [
    "import matplotlib.pyplot as plt\n",
    "from sklearn.datasets import load_iris\n",
    "from sklearn.model_selection import train_test_split\n",
    "\n",
    "# Carregando o dataset IRIS\n",
    "iris = load_iris()\n",
    "\n",
    "# Dividindo o dataset com 40% para treino\n",
    "X_train, X_test, y_train, y_test = train_test_split(\n",
    "    iris.data, iris.target, train_size=0.4, random_state=42\n",
    ")\n",
    "\n",
    "# Quantidade de amostras\n",
    "total_amostras = len(iris.data)\n",
    "amostras_treino = len(X_train)\n",
    "amostras_teste = len(X_test)\n",
    "\n",
    "# Criando gráfico\n",
    "labels = ['Amostras no Total', 'Amostras para Treinamento', 'Amostras para Teste']\n",
    "sizes = [total_amostras, amostras_treino, amostras_teste]\n",
    "colors = ['#ff9999', '#66b3ff', '#99ff99']\n",
    "\n",
    "# Plotando gráfico de barras\n",
    "plt.figure(figsize=(7,5))\n",
    "plt.bar(labels, sizes, color=colors)\n",
    "plt.title('Distribuição do Dataset IRIS', fontsize=14)\n",
    "plt.ylabel('Número de Amostras')\n",
    "plt.show()\n",
    "\n",
    "# Exibindo as quantidades\n",
    "print(f\"Total de amostras no dataset IRIS: {total_amostras}\")\n",
    "print(f\"Quantidade de amostras no conjunto de treino: {amostras_treino}\")\n",
    "print(f\"Quantidade de amostras no conjunto de teste: {amostras_teste}\")"
   ]
  }
 ],
 "metadata": {
  "kernelspec": {
   "display_name": "Python 3",
   "language": "python",
   "name": "python3"
  },
  "language_info": {
   "name": "python",
   "version": "3.11.9"
  }
 },
 "nbformat": 4,
 "nbformat_minor": 5
}
