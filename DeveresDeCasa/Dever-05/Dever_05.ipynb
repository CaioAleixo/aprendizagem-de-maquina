{
 "cells": [
  {
   "cell_type": "code",
   "execution_count": null,
   "metadata": {},
   "outputs": [
    {
     "ename": "",
     "evalue": "",
     "output_type": "error",
     "traceback": [
      "\u001b[1;31mRunning cells with 'Python 3.11.9' requires the ipykernel package.\n",
      "\u001b[1;31mRun the following command to install 'ipykernel' into the Python environment. \n",
      "\u001b[1;31mCommand: '\"c:/Users/Caio Víctor/AppData/Local/Microsoft/WindowsApps/python3.11.exe\" -m pip install ipykernel -U --user --force-reinstall'"
     ]
    }
   ],
   "source": [
    "import csv\n",
    "import numpy as np\n",
    "from sklearn.linear_model import LogisticRegression\n",
    "\n",
    "# Criando dados de exemplo\n",
    "data = [\n",
    "    [18.5, False],\n",
    "    [20.0, False],\n",
    "    [25.0, False],\n",
    "    [27.0, True],\n",
    "    [30.0, True],\n",
    "    [32.0, True],\n",
    "    [35.0, True],\n",
    "    [19.0, False],\n",
    "    [22.5, False],\n",
    "    [29.0, True],\n",
    "]\n",
    "\n",
    "# Criando o arquivo CSV\n",
    "with open('imc_data.csv', 'w', newline='') as csvfile:\n",
    "    writer = csv.writer(csvfile)\n",
    "    writer.writerow(['IMC', 'Obeso'])  # Cabeçalho\n",
    "    writer.writerows(data)\n",
    "\n",
    "\n",
    "# Carregando os dados do arquivo CSV\n",
    "imc_values = []\n",
    "obesity_values = []\n",
    "with open('imc_data.csv', 'r') as csvfile:\n",
    "  reader = csv.DictReader(csvfile)\n",
    "  for row in reader:\n",
    "    imc_values.append(float(row['IMC']))\n",
    "    obesity_values.append(bool(row['Obeso']))\n",
    "\n",
    "# Convertendo para arrays numpy\n",
    "X = np.array(imc_values).reshape(-1, 1)\n",
    "y = np.array(obesity_values)\n",
    "\n",
    "# Treinando o modelo de regressão logística\n",
    "model = LogisticRegression()\n",
    "model.fit(X, y)\n",
    "\n",
    "# Prevendo a obesidade para um novo IMC\n",
    "novo_imc = 26.5 # Exemplo\n",
    "predicao = model.predict(np.array([[novo_imc]]))[0]\n",
    "\n",
    "print(f\"Para um IMC de {novo_imc}, a predição é: Obeso = {predicao}\")"
   ]
  }
 ],
 "metadata": {
  "kernelspec": {
   "display_name": "Python 3",
   "language": "python",
   "name": "python3"
  },
  "language_info": {
   "name": "python",
   "version": "3.11.9"
  }
 },
 "nbformat": 4,
 "nbformat_minor": 2
}
