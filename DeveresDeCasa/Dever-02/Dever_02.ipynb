{
 "cells": [
  {
   "cell_type": "code",
   "execution_count": null,
   "metadata": {},
   "outputs": [],
   "source": [
    "def validate_input(phrase):\n",
    "  if not phrase:\n",
    "    raise ValueError(\"A frase não pode estar vazia.\")\n",
    "  return phrase\n",
    "\n",
    "\n",
    "try:\n",
    "  frase = input(\"Digite uma frase: \")\n",
    "  frase = validate_input(frase)\n",
    "\n",
    "  num_caracteres = len(frase)\n",
    "  palavras = frase.split()\n",
    "  num_palavras = len(palavras)\n",
    "\n",
    "  maior_palavra = \"\"\n",
    "  for palavra in palavras:\n",
    "    if len(palavra) > len(maior_palavra):\n",
    "      maior_palavra = palavra\n",
    "\n",
    "  frase_invertida_caracteres = frase[::-1]\n",
    "  frase_invertida_palavras = \" \".join(palavras[::-1])\n",
    "\n",
    "  frase_maiusculas = frase.upper()\n",
    "  frase_minusculas = frase.lower()\n",
    "\n",
    "  tupla_palavras = tuple(palavras)\n",
    "\n",
    "  print(f\"Número de caracteres: {num_caracteres}\")\n",
    "  print(f\"Número de palavras: {num_palavras}\")\n",
    "  print(f\"Maior palavra: {maior_palavra}\")\n",
    "  print(f\"Frase invertida (caracteres): {frase_invertida_caracteres}\")\n",
    "  print(f\"Frase invertida (palavras): {frase_invertida_palavras}\")\n",
    "  print(f\"Frase em maiúsculas: {frase_maiusculas}\")\n",
    "  print(f\"Frase em minúsculas: {frase_minusculas}\")\n",
    "  print(f\"Tupla de palavras: {tupla_palavras}\")\n",
    "\n",
    "except ValueError as e:\n",
    "  print(f\"Erro: {e}\")"
   ]
  }
 ],
 "metadata": {
  "language_info": {
   "name": "python"
  }
 },
 "nbformat": 4,
 "nbformat_minor": 2
}
